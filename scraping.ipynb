{
 "cells": [
  {
   "cell_type": "code",
   "execution_count": null,
   "id": "40127482",
   "metadata": {},
   "outputs": [
    {
     "name": "stdout",
     "output_type": "stream",
     "text": [
      "Requirement already satisfied: nest_asyncio in /Users/rzapp/Library/Python/3.13/lib/python/site-packages (1.6.0)\n",
      "\n",
      "\u001b[1m[\u001b[0m\u001b[34;49mnotice\u001b[0m\u001b[1;39;49m]\u001b[0m\u001b[39;49m A new release of pip is available: \u001b[0m\u001b[31;49m24.3.1\u001b[0m\u001b[39;49m -> \u001b[0m\u001b[32;49m25.1.1\u001b[0m\n",
      "\u001b[1m[\u001b[0m\u001b[34;49mnotice\u001b[0m\u001b[1;39;49m]\u001b[0m\u001b[39;49m To update, run: \u001b[0m\u001b[32;49mpip3 install --upgrade pip\u001b[0m\n"
     ]
    }
   ],
   "source": [
    "#! pip3 install telethon\n",
    "# ! pip3 install nest_asyncio\n",
    "# https://my.telegram.org/apps"
   ]
  },
  {
   "cell_type": "code",
   "execution_count": 1,
   "id": "68e133f4",
   "metadata": {},
   "outputs": [],
   "source": [
    "import nest_asyncio\n",
    "nest_asyncio.apply()"
   ]
  },
  {
   "cell_type": "code",
   "execution_count": 9,
   "id": "18adf47f",
   "metadata": {},
   "outputs": [],
   "source": [
    "from telethon.sync import TelegramClient\n",
    "from telethon.tl.types import MessageMediaPhoto\n",
    "from datetime import datetime\n",
    "import nest_asyncio\n",
    "import os\n",
    "import json\n",
    "\n",
    "nest_asyncio.apply()\n",
    "from dotenv import load_dotenv\n",
    "load_dotenv()\n",
    "\n",
    "import os\n",
    "api_id = os.getenv(\"TELEGRAM_API_ID\")\n",
    "api_hash = os.getenv(\"TELEGRAM_API_HASH\")\n",
    "client = TelegramClient('session', api_id, api_hash)\n",
    "\n",
    "async def scrape_channel(channel_username, limit=50):\n",
    "    await client.start()\n",
    "    print(f\"Scraping messages from {channel_username}\")\n",
    "    \n",
    "    messages = await client.get_messages(channel_username, limit=limit)\n",
    "    os.makedirs(f\"media/{channel_username}\", exist_ok=True)\n",
    "    \n",
    "    data = []\n",
    "    \n",
    "    for i, message in enumerate(messages):\n",
    "        msg_data = {\n",
    "            \"text\": message.text or \"\",\n",
    "            \"date\": str(message.date),\n",
    "            \"sender_id\": message.sender_id,\n",
    "            \"has_media\": bool(message.media),\n",
    "            \"media_path\": None\n",
    "        }\n",
    "        if message.media and isinstance(message.media, MessageMediaPhoto):\n",
    "            file_path = await message.download_media(file=f\"media/{channel_username}/\")\n",
    "            msg_data[\"media_path\"] = file_path\n",
    "            print(f\"Saved image to: {file_path}\")\n",
    "        \n",
    "        print(f\"{i+1}. {msg_data['text'][:50]}\")\n",
    "        data.append(msg_data)\n",
    "\n",
    "    with open(f\"data/{channel_username}_messages.json\", \"w\", encoding=\"utf-8\") as f:\n",
    "        json.dump(data, f, indent=4)\n",
    "\n",
    "    print(f\"✅ Saved {len(data)} messages to JSON.\")\n",
    "    await client.disconnect()\n"
   ]
  },
  {
   "cell_type": "code",
   "execution_count": null,
   "id": "7ea9be32",
   "metadata": {},
   "outputs": [],
   "source": []
  },
  {
   "cell_type": "code",
   "execution_count": null,
   "id": "a8e4071e",
   "metadata": {},
   "outputs": [],
   "source": []
  }
 ],
 "metadata": {
  "kernelspec": {
   "display_name": "venv",
   "language": "python",
   "name": "python3"
  },
  "language_info": {
   "codemirror_mode": {
    "name": "ipython",
    "version": 3
   },
   "file_extension": ".py",
   "mimetype": "text/x-python",
   "name": "python",
   "nbconvert_exporter": "python",
   "pygments_lexer": "ipython3",
   "version": "3.13.4"
  }
 },
 "nbformat": 4,
 "nbformat_minor": 5
}
